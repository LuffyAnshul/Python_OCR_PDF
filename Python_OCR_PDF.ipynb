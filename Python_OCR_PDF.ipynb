{
  "nbformat": 4,
  "nbformat_minor": 0,
  "metadata": {
    "colab": {
      "name": "Python_OCR_PDF.ipynb",
      "provenance": [],
      "authorship_tag": "ABX9TyNfvCfe9WdOnLhTpuuSqjKo",
      "include_colab_link": true
    },
    "kernelspec": {
      "name": "python3",
      "display_name": "Python 3"
    }
  },
  "cells": [
    {
      "cell_type": "markdown",
      "metadata": {
        "id": "view-in-github",
        "colab_type": "text"
      },
      "source": [
        "<a href=\"https://colab.research.google.com/github/LuffyAnshul/Python_OCR_PDF/blob/master/Python_OCR_PDF.ipynb\" target=\"_parent\"><img src=\"https://colab.research.google.com/assets/colab-badge.svg\" alt=\"Open In Colab\"/></a>"
      ]
    },
    {
      "cell_type": "code",
      "metadata": {
        "id": "LXmvdPHfwSf7",
        "colab_type": "code",
        "colab": {
          "base_uri": "https://localhost:8080/",
          "height": 1000
        },
        "outputId": "701d3c8e-5f92-45ab-afd1-76ecd384ed5a"
      },
      "source": [
        "!apt-get install ocrmypdf -q"
      ],
      "execution_count": 1,
      "outputs": [
        {
          "output_type": "stream",
          "text": [
            "Reading package lists...\n",
            "Building dependency tree...\n",
            "Reading state information...\n",
            "The following additional packages will be installed:\n",
            "  fonts-droid-fallback fonts-noto-mono ghostscript gsfonts icc-profiles-free\n",
            "  libart-2.0-2 libcupsfilters1 libcupsimage2 libgs9 libgs9-common libijs-0.35\n",
            "  libjbig2dec0 libqpdf21 poppler-data python3-cffi-backend python3-defusedxml\n",
            "  python3-img2pdf python3-olefile python3-pil python3-pkg-resources\n",
            "  python3-pypdf2 python3-renderpm python3-reportlab python3-reportlab-accel\n",
            "  python3-ruffus qpdf tesseract-ocr tesseract-ocr-eng tesseract-ocr-osd\n",
            "  unpaper\n",
            "Suggested packages:\n",
            "  fonts-noto ghostscript-x ocrmypdf-doc python-watchdog img2pdf poppler-utils\n",
            "  fonts-japanese-mincho | fonts-ipafont-mincho fonts-japanese-gothic\n",
            "  | fonts-ipafont-gothic fonts-arphic-ukai fonts-arphic-uming fonts-nanum\n",
            "  python3-pdfrw python-pil-doc python3-pil-dbg python3-setuptools\n",
            "  python3-renderpm-dbg pdf-viewer python3-egenix-mxtexttools\n",
            "  python-reportlab-doc\n",
            "The following NEW packages will be installed:\n",
            "  fonts-droid-fallback fonts-noto-mono ghostscript gsfonts icc-profiles-free\n",
            "  libart-2.0-2 libcupsfilters1 libcupsimage2 libgs9 libgs9-common libijs-0.35\n",
            "  libjbig2dec0 libqpdf21 ocrmypdf poppler-data python3-cffi-backend\n",
            "  python3-defusedxml python3-img2pdf python3-olefile python3-pil\n",
            "  python3-pkg-resources python3-pypdf2 python3-renderpm python3-reportlab\n",
            "  python3-reportlab-accel python3-ruffus qpdf tesseract-ocr tesseract-ocr-eng\n",
            "  tesseract-ocr-osd unpaper\n",
            "0 upgraded, 31 newly installed, 0 to remove and 11 not upgraded.\n",
            "Need to get 21.6 MB of archives.\n",
            "After this operation, 75.8 MB of additional disk space will be used.\n",
            "Get:1 http://archive.ubuntu.com/ubuntu bionic/main amd64 fonts-droid-fallback all 1:6.0.1r16-1.1 [1,805 kB]\n",
            "Get:2 http://archive.ubuntu.com/ubuntu bionic/main amd64 poppler-data all 0.4.8-2 [1,479 kB]\n",
            "Get:3 http://archive.ubuntu.com/ubuntu bionic/main amd64 fonts-noto-mono all 20171026-2 [75.5 kB]\n",
            "Get:4 http://archive.ubuntu.com/ubuntu bionic-updates/main amd64 libcupsimage2 amd64 2.2.7-1ubuntu2.8 [18.6 kB]\n",
            "Get:5 http://archive.ubuntu.com/ubuntu bionic/main amd64 libijs-0.35 amd64 0.35-13 [15.5 kB]\n",
            "Get:6 http://archive.ubuntu.com/ubuntu bionic/main amd64 libjbig2dec0 amd64 0.13-6 [55.9 kB]\n",
            "Get:7 http://archive.ubuntu.com/ubuntu bionic-updates/main amd64 libgs9-common all 9.26~dfsg+0-0ubuntu0.18.04.13 [5,092 kB]\n",
            "Get:8 http://archive.ubuntu.com/ubuntu bionic-updates/main amd64 libgs9 amd64 9.26~dfsg+0-0ubuntu0.18.04.13 [2,263 kB]\n",
            "Get:9 http://archive.ubuntu.com/ubuntu bionic-updates/main amd64 ghostscript amd64 9.26~dfsg+0-0ubuntu0.18.04.13 [51.0 kB]\n",
            "Get:10 http://archive.ubuntu.com/ubuntu bionic/main amd64 gsfonts all 1:8.11+urwcyr1.0.7~pre44-4.4 [3,120 kB]\n",
            "Get:11 http://archive.ubuntu.com/ubuntu bionic/main amd64 icc-profiles-free all 2.0.1+dfsg-1 [549 kB]\n",
            "Get:12 http://archive.ubuntu.com/ubuntu bionic/main amd64 libart-2.0-2 amd64 2.3.21-3 [51.9 kB]\n",
            "Get:13 http://archive.ubuntu.com/ubuntu bionic-updates/main amd64 libcupsfilters1 amd64 1.20.2-0ubuntu3.1 [108 kB]\n",
            "Get:14 http://archive.ubuntu.com/ubuntu bionic/main amd64 libqpdf21 amd64 8.0.2-3 [289 kB]\n",
            "Get:15 http://archive.ubuntu.com/ubuntu bionic-updates/main amd64 python3-pil amd64 5.1.0-1ubuntu0.3 [330 kB]\n",
            "Get:16 http://archive.ubuntu.com/ubuntu bionic/main amd64 python3-pkg-resources all 39.0.1-2 [98.8 kB]\n",
            "Get:17 http://archive.ubuntu.com/ubuntu bionic-updates/main amd64 python3-reportlab-accel amd64 3.4.0-3ubuntu0.1 [18.4 kB]\n",
            "Get:18 http://archive.ubuntu.com/ubuntu bionic-updates/main amd64 python3-reportlab all 3.4.0-3ubuntu0.1 [473 kB]\n",
            "Get:19 http://archive.ubuntu.com/ubuntu bionic/universe amd64 python3-ruffus all 2.6.3+dfsg-5 [87.5 kB]\n",
            "Get:20 http://archive.ubuntu.com/ubuntu bionic/main amd64 qpdf amd64 8.0.2-3 [238 kB]\n",
            "Get:21 http://archive.ubuntu.com/ubuntu bionic/universe amd64 tesseract-ocr-eng all 4.00~git24-0e00fe6-1.2 [1,588 kB]\n",
            "Get:22 http://archive.ubuntu.com/ubuntu bionic/universe amd64 tesseract-ocr-osd all 4.00~git24-0e00fe6-1.2 [2,989 kB]\n",
            "Get:23 http://archive.ubuntu.com/ubuntu bionic/universe amd64 tesseract-ocr amd64 4.00~git2288-10f4998a-2 [218 kB]\n",
            "Get:24 http://archive.ubuntu.com/ubuntu bionic/main amd64 python3-cffi-backend amd64 1.11.5-1 [64.6 kB]\n",
            "Get:25 http://archive.ubuntu.com/ubuntu bionic/universe amd64 python3-defusedxml all 0.5.0-1ubuntu1 [19.2 kB]\n",
            "Get:26 http://archive.ubuntu.com/ubuntu bionic/universe amd64 python3-img2pdf all 0.2.3-1 [22.8 kB]\n",
            "Get:27 http://archive.ubuntu.com/ubuntu bionic/universe amd64 python3-pypdf2 all 1.26.0-2 [49.2 kB]\n",
            "Get:28 http://archive.ubuntu.com/ubuntu bionic-updates/universe amd64 ocrmypdf all 6.1.2-1ubuntu1.1 [74.3 kB]\n",
            "Get:29 http://archive.ubuntu.com/ubuntu bionic/main amd64 python3-olefile all 0.45.1-1 [33.3 kB]\n",
            "Get:30 http://archive.ubuntu.com/ubuntu bionic-updates/main amd64 python3-renderpm amd64 3.4.0-3ubuntu0.1 [33.5 kB]\n",
            "Get:31 http://archive.ubuntu.com/ubuntu bionic/universe amd64 unpaper amd64 6.1-2 [242 kB]\n",
            "Fetched 21.6 MB in 3s (8,549 kB/s)\n",
            "Extracting templates from packages: 100%\n",
            "Selecting previously unselected package fonts-droid-fallback.\n",
            "(Reading database ... 144676 files and directories currently installed.)\n",
            "Preparing to unpack .../00-fonts-droid-fallback_1%3a6.0.1r16-1.1_all.deb ...\n",
            "Unpacking fonts-droid-fallback (1:6.0.1r16-1.1) ...\n",
            "Selecting previously unselected package poppler-data.\n",
            "Preparing to unpack .../01-poppler-data_0.4.8-2_all.deb ...\n",
            "Unpacking poppler-data (0.4.8-2) ...\n",
            "Selecting previously unselected package fonts-noto-mono.\n",
            "Preparing to unpack .../02-fonts-noto-mono_20171026-2_all.deb ...\n",
            "Unpacking fonts-noto-mono (20171026-2) ...\n",
            "Selecting previously unselected package libcupsimage2:amd64.\n",
            "Preparing to unpack .../03-libcupsimage2_2.2.7-1ubuntu2.8_amd64.deb ...\n",
            "Unpacking libcupsimage2:amd64 (2.2.7-1ubuntu2.8) ...\n",
            "Selecting previously unselected package libijs-0.35:amd64.\n",
            "Preparing to unpack .../04-libijs-0.35_0.35-13_amd64.deb ...\n",
            "Unpacking libijs-0.35:amd64 (0.35-13) ...\n",
            "Selecting previously unselected package libjbig2dec0:amd64.\n",
            "Preparing to unpack .../05-libjbig2dec0_0.13-6_amd64.deb ...\n",
            "Unpacking libjbig2dec0:amd64 (0.13-6) ...\n",
            "Selecting previously unselected package libgs9-common.\n",
            "Preparing to unpack .../06-libgs9-common_9.26~dfsg+0-0ubuntu0.18.04.13_all.deb ...\n",
            "Unpacking libgs9-common (9.26~dfsg+0-0ubuntu0.18.04.13) ...\n",
            "Selecting previously unselected package libgs9:amd64.\n",
            "Preparing to unpack .../07-libgs9_9.26~dfsg+0-0ubuntu0.18.04.13_amd64.deb ...\n",
            "Unpacking libgs9:amd64 (9.26~dfsg+0-0ubuntu0.18.04.13) ...\n",
            "Selecting previously unselected package ghostscript.\n",
            "Preparing to unpack .../08-ghostscript_9.26~dfsg+0-0ubuntu0.18.04.13_amd64.deb ...\n",
            "Unpacking ghostscript (9.26~dfsg+0-0ubuntu0.18.04.13) ...\n",
            "Selecting previously unselected package gsfonts.\n",
            "Preparing to unpack .../09-gsfonts_1%3a8.11+urwcyr1.0.7~pre44-4.4_all.deb ...\n",
            "Unpacking gsfonts (1:8.11+urwcyr1.0.7~pre44-4.4) ...\n",
            "Selecting previously unselected package icc-profiles-free.\n",
            "Preparing to unpack .../10-icc-profiles-free_2.0.1+dfsg-1_all.deb ...\n",
            "Unpacking icc-profiles-free (2.0.1+dfsg-1) ...\n",
            "Selecting previously unselected package libart-2.0-2:amd64.\n",
            "Preparing to unpack .../11-libart-2.0-2_2.3.21-3_amd64.deb ...\n",
            "Unpacking libart-2.0-2:amd64 (2.3.21-3) ...\n",
            "Selecting previously unselected package libcupsfilters1:amd64.\n",
            "Preparing to unpack .../12-libcupsfilters1_1.20.2-0ubuntu3.1_amd64.deb ...\n",
            "Unpacking libcupsfilters1:amd64 (1.20.2-0ubuntu3.1) ...\n",
            "Selecting previously unselected package libqpdf21:amd64.\n",
            "Preparing to unpack .../13-libqpdf21_8.0.2-3_amd64.deb ...\n",
            "Unpacking libqpdf21:amd64 (8.0.2-3) ...\n",
            "Selecting previously unselected package python3-pil:amd64.\n",
            "Preparing to unpack .../14-python3-pil_5.1.0-1ubuntu0.3_amd64.deb ...\n",
            "Unpacking python3-pil:amd64 (5.1.0-1ubuntu0.3) ...\n",
            "Selecting previously unselected package python3-pkg-resources.\n",
            "Preparing to unpack .../15-python3-pkg-resources_39.0.1-2_all.deb ...\n",
            "Unpacking python3-pkg-resources (39.0.1-2) ...\n",
            "Selecting previously unselected package python3-reportlab-accel:amd64.\n",
            "Preparing to unpack .../16-python3-reportlab-accel_3.4.0-3ubuntu0.1_amd64.deb ...\n",
            "Unpacking python3-reportlab-accel:amd64 (3.4.0-3ubuntu0.1) ...\n",
            "Selecting previously unselected package python3-reportlab.\n",
            "Preparing to unpack .../17-python3-reportlab_3.4.0-3ubuntu0.1_all.deb ...\n",
            "Unpacking python3-reportlab (3.4.0-3ubuntu0.1) ...\n",
            "Selecting previously unselected package python3-ruffus.\n",
            "Preparing to unpack .../18-python3-ruffus_2.6.3+dfsg-5_all.deb ...\n",
            "Unpacking python3-ruffus (2.6.3+dfsg-5) ...\n",
            "Selecting previously unselected package qpdf.\n",
            "Preparing to unpack .../19-qpdf_8.0.2-3_amd64.deb ...\n",
            "Unpacking qpdf (8.0.2-3) ...\n",
            "Selecting previously unselected package tesseract-ocr-eng.\n",
            "Preparing to unpack .../20-tesseract-ocr-eng_4.00~git24-0e00fe6-1.2_all.deb ...\n",
            "Unpacking tesseract-ocr-eng (4.00~git24-0e00fe6-1.2) ...\n",
            "Selecting previously unselected package tesseract-ocr-osd.\n",
            "Preparing to unpack .../21-tesseract-ocr-osd_4.00~git24-0e00fe6-1.2_all.deb ...\n",
            "Unpacking tesseract-ocr-osd (4.00~git24-0e00fe6-1.2) ...\n",
            "Selecting previously unselected package tesseract-ocr.\n",
            "Preparing to unpack .../22-tesseract-ocr_4.00~git2288-10f4998a-2_amd64.deb ...\n",
            "Unpacking tesseract-ocr (4.00~git2288-10f4998a-2) ...\n",
            "Selecting previously unselected package python3-cffi-backend.\n",
            "Preparing to unpack .../23-python3-cffi-backend_1.11.5-1_amd64.deb ...\n",
            "Unpacking python3-cffi-backend (1.11.5-1) ...\n",
            "Selecting previously unselected package python3-defusedxml.\n",
            "Preparing to unpack .../24-python3-defusedxml_0.5.0-1ubuntu1_all.deb ...\n",
            "Unpacking python3-defusedxml (0.5.0-1ubuntu1) ...\n",
            "Selecting previously unselected package python3-img2pdf.\n",
            "Preparing to unpack .../25-python3-img2pdf_0.2.3-1_all.deb ...\n",
            "Unpacking python3-img2pdf (0.2.3-1) ...\n",
            "Selecting previously unselected package python3-pypdf2.\n",
            "Preparing to unpack .../26-python3-pypdf2_1.26.0-2_all.deb ...\n",
            "Unpacking python3-pypdf2 (1.26.0-2) ...\n",
            "Selecting previously unselected package ocrmypdf.\n",
            "Preparing to unpack .../27-ocrmypdf_6.1.2-1ubuntu1.1_all.deb ...\n",
            "Unpacking ocrmypdf (6.1.2-1ubuntu1.1) ...\n",
            "Selecting previously unselected package python3-olefile.\n",
            "Preparing to unpack .../28-python3-olefile_0.45.1-1_all.deb ...\n",
            "Unpacking python3-olefile (0.45.1-1) ...\n",
            "Selecting previously unselected package python3-renderpm:amd64.\n",
            "Preparing to unpack .../29-python3-renderpm_3.4.0-3ubuntu0.1_amd64.deb ...\n",
            "Unpacking python3-renderpm:amd64 (3.4.0-3ubuntu0.1) ...\n",
            "Selecting previously unselected package unpaper.\n",
            "Preparing to unpack .../30-unpaper_6.1-2_amd64.deb ...\n",
            "Unpacking unpaper (6.1-2) ...\n",
            "Setting up libgs9-common (9.26~dfsg+0-0ubuntu0.18.04.13) ...\n",
            "Setting up libart-2.0-2:amd64 (2.3.21-3) ...\n",
            "Setting up python3-pypdf2 (1.26.0-2) ...\n",
            "Setting up icc-profiles-free (2.0.1+dfsg-1) ...\n",
            "Setting up fonts-droid-fallback (1:6.0.1r16-1.1) ...\n",
            "Setting up python3-pil:amd64 (5.1.0-1ubuntu0.3) ...\n",
            "Setting up gsfonts (1:8.11+urwcyr1.0.7~pre44-4.4) ...\n",
            "Setting up python3-cffi-backend (1.11.5-1) ...\n",
            "Setting up python3-olefile (0.45.1-1) ...\n",
            "Setting up unpaper (6.1-2) ...\n",
            "Setting up poppler-data (0.4.8-2) ...\n",
            "Setting up libqpdf21:amd64 (8.0.2-3) ...\n",
            "Setting up python3-pkg-resources (39.0.1-2) ...\n",
            "Setting up fonts-noto-mono (20171026-2) ...\n",
            "Setting up libcupsfilters1:amd64 (1.20.2-0ubuntu3.1) ...\n",
            "Setting up libcupsimage2:amd64 (2.2.7-1ubuntu2.8) ...\n",
            "Setting up tesseract-ocr-osd (4.00~git24-0e00fe6-1.2) ...\n",
            "Setting up libjbig2dec0:amd64 (0.13-6) ...\n",
            "Setting up tesseract-ocr-eng (4.00~git24-0e00fe6-1.2) ...\n",
            "Setting up python3-defusedxml (0.5.0-1ubuntu1) ...\n",
            "Setting up python3-ruffus (2.6.3+dfsg-5) ...\n",
            "Setting up libijs-0.35:amd64 (0.35-13) ...\n",
            "Setting up python3-reportlab-accel:amd64 (3.4.0-3ubuntu0.1) ...\n",
            "Setting up tesseract-ocr (4.00~git2288-10f4998a-2) ...\n",
            "Setting up qpdf (8.0.2-3) ...\n",
            "Setting up python3-img2pdf (0.2.3-1) ...\n",
            "Setting up libgs9:amd64 (9.26~dfsg+0-0ubuntu0.18.04.13) ...\n",
            "Setting up python3-renderpm:amd64 (3.4.0-3ubuntu0.1) ...\n",
            "Setting up ghostscript (9.26~dfsg+0-0ubuntu0.18.04.13) ...\n",
            "Setting up python3-reportlab (3.4.0-3ubuntu0.1) ...\n",
            "Setting up ocrmypdf (6.1.2-1ubuntu1.1) ...\n",
            "Processing triggers for man-db (2.8.3-2ubuntu0.1) ...\n",
            "Processing triggers for fontconfig (2.12.6-0ubuntu2) ...\n",
            "Processing triggers for libc-bin (2.27-3ubuntu1.2) ...\n",
            "/sbin/ldconfig.real: /usr/local/lib/python3.6/dist-packages/ideep4py/lib/libmkldnn.so.0 is not a symbolic link\n",
            "\n"
          ],
          "name": "stdout"
        }
      ]
    },
    {
      "cell_type": "code",
      "metadata": {
        "id": "4o8yj5towbFv",
        "colab_type": "code",
        "colab": {
          "base_uri": "https://localhost:8080/",
          "height": 87
        },
        "outputId": "3dde8c80-9490-4ec9-ea2b-443eb3500f3f"
      },
      "source": [
        "!pip install pdfplumber -q"
      ],
      "execution_count": 2,
      "outputs": [
        {
          "output_type": "stream",
          "text": [
            "\u001b[K     |████████████████████████████████| 5.6MB 11.1MB/s \n",
            "\u001b[K     |████████████████████████████████| 143kB 40.5MB/s \n",
            "\u001b[K     |████████████████████████████████| 13.7MB 311kB/s \n",
            "\u001b[?25h  Building wheel for pdfplumber (setup.py) ... \u001b[?25l\u001b[?25hdone\n"
          ],
          "name": "stdout"
        }
      ]
    },
    {
      "cell_type": "code",
      "metadata": {
        "id": "XwyZ7uy0wcaq",
        "colab_type": "code",
        "colab": {}
      },
      "source": [
        "import os\n",
        "\n",
        "import requests\n",
        "import pdfplumber"
      ],
      "execution_count": 3,
      "outputs": []
    },
    {
      "cell_type": "code",
      "metadata": {
        "id": "SH5m2-8RweJk",
        "colab_type": "code",
        "colab": {}
      },
      "source": [
        "def download_file(url):\n",
        "    local_filename = url.split('/')[-1]\n",
        "    \n",
        "    with requests.get(url) as r:\n",
        "        assert r.status_code == 200, f'error, status code is {r.status_code}'\n",
        "        with open(local_filename, 'wb') as f:\n",
        "            f.write(r.content)\n",
        "        \n",
        "    return local_filename"
      ],
      "execution_count": 6,
      "outputs": []
    },
    {
      "cell_type": "code",
      "metadata": {
        "id": "TdqAnno8whpz",
        "colab_type": "code",
        "colab": {}
      },
      "source": [
        "invoice = 'https://bit.ly/2UJgUpO'\n",
        "invoice_pdf = download_file(invoice)"
      ],
      "execution_count": 7,
      "outputs": []
    },
    {
      "cell_type": "code",
      "metadata": {
        "id": "RNKzLYI1wuIA",
        "colab_type": "code",
        "colab": {
          "base_uri": "https://localhost:8080/",
          "height": 35
        },
        "outputId": "47adcb05-505d-464b-f2a9-a86233a0c4b8"
      },
      "source": [
        "invoice_pdf"
      ],
      "execution_count": 8,
      "outputs": [
        {
          "output_type": "execute_result",
          "data": {
            "application/vnd.google.colaboratory.intrinsic+json": {
              "type": "string"
            },
            "text/plain": [
              "'2UJgUpO'"
            ]
          },
          "metadata": {
            "tags": []
          },
          "execution_count": 8
        }
      ]
    },
    {
      "cell_type": "code",
      "metadata": {
        "id": "XHB7r6dGwwnY",
        "colab_type": "code",
        "colab": {
          "base_uri": "https://localhost:8080/",
          "height": 34
        },
        "outputId": "f2d6d132-8a56-406a-e84f-b0db6a0c3c35"
      },
      "source": [
        "with pdfplumber.open(invoice_pdf) as pdf:\n",
        "    page = pdf.pages[0]\n",
        "    text = page.extract_text()\n",
        "    print(text)"
      ],
      "execution_count": 9,
      "outputs": [
        {
          "output_type": "stream",
          "text": [
            "None\n"
          ],
          "name": "stdout"
        }
      ]
    },
    {
      "cell_type": "code",
      "metadata": {
        "id": "d-vYKeBkwyFu",
        "colab_type": "code",
        "colab": {
          "base_uri": "https://localhost:8080/",
          "height": 34
        },
        "outputId": "a190715f-67de-49a1-91b4-2b752c56b1d6"
      },
      "source": [
        "os.system(f'ocrmypdf {invoice_pdf} output.pdf')"
      ],
      "execution_count": 10,
      "outputs": [
        {
          "output_type": "execute_result",
          "data": {
            "text/plain": [
              "0"
            ]
          },
          "metadata": {
            "tags": []
          },
          "execution_count": 10
        }
      ]
    },
    {
      "cell_type": "code",
      "metadata": {
        "id": "JO0IqJ15wza0",
        "colab_type": "code",
        "colab": {
          "base_uri": "https://localhost:8080/",
          "height": 457
        },
        "outputId": "f52f3327-9447-4312-a3e5-b31846bb1759"
      },
      "source": [
        "with pdfplumber.open('output.pdf') as pdf:\n",
        "    page = pdf.pages[0]\n",
        "    text = page.extract_text(x_tolerance=2)\n",
        "    print(text)"
      ],
      "execution_count": 11,
      "outputs": [
        {
          "output_type": "stream",
          "text": [
            "Stanford Plumbing & Heating INVOICE\n",
            "123 Madison drive, Seattle, WA, 7829Q\n",
            "plumbingstanford.com\n",
            "990-120-4560\n",
            "BILL TO Invoice No: winvo2081\n",
            "Allen Smith Invoice Date: nae\n",
            "87Private st, Seattle, WA ‘Due Date: 12/01/18\n",
            "allen@gmailcom\n",
            "990-302-1898\n",
            "DESCRIPTION QTYHR UNITPRICE TOTAL\n",
            "Installed new kitchen sink(hours) 150.00\n",
            "Toto sink 1 $00.00 $00.00\n",
            "Worcester greenstar magnetic system filter 1 190.00 190.00\n",
            "Nest smart thermostat 1 250.00 250.00\n",
            "Worcester Greenstar 301 1 1500.00 1500.00\n",
            "‘SUBTOTAL 2590.00\n",
            "DISCOUNT 50.00\n",
            "‘SUBTOTAL LESS DISCOUNT 2540.00\n",
            "Tank you for your business!\n",
            "TAXRATE 12.00%\n",
            "TOTAL TAX 304.80\n",
            "Balance Due $2,844.80\n",
            "Terms & Instructions\n",
            "Please pay within 20 days by PayPal (bob@stanfordplumbingcom)\n",
            "Installed products have S year warranty.\n"
          ],
          "name": "stdout"
        }
      ]
    },
    {
      "cell_type": "code",
      "metadata": {
        "id": "sBIBtdqbw0-g",
        "colab_type": "code",
        "colab": {}
      },
      "source": [
        "lines = text.split('\\n')"
      ],
      "execution_count": 12,
      "outputs": []
    },
    {
      "cell_type": "code",
      "metadata": {
        "id": "PmzqiZ6zw2wg",
        "colab_type": "code",
        "colab": {
          "base_uri": "https://localhost:8080/",
          "height": 457
        },
        "outputId": "8c62e7ce-ea66-4ea1-989b-5f92fe351c57"
      },
      "source": [
        "lines"
      ],
      "execution_count": 13,
      "outputs": [
        {
          "output_type": "execute_result",
          "data": {
            "text/plain": [
              "['Stanford Plumbing & Heating INVOICE',\n",
              " '123 Madison drive, Seattle, WA, 7829Q',\n",
              " 'plumbingstanford.com',\n",
              " '990-120-4560',\n",
              " 'BILL TO Invoice No: winvo2081',\n",
              " 'Allen Smith Invoice Date: nae',\n",
              " '87Private st, Seattle, WA ‘Due Date: 12/01/18',\n",
              " 'allen@gmailcom',\n",
              " '990-302-1898',\n",
              " 'DESCRIPTION QTYHR UNITPRICE TOTAL',\n",
              " 'Installed new kitchen sink(hours) 150.00',\n",
              " 'Toto sink 1 $00.00 $00.00',\n",
              " 'Worcester greenstar magnetic system filter 1 190.00 190.00',\n",
              " 'Nest smart thermostat 1 250.00 250.00',\n",
              " 'Worcester Greenstar 301 1 1500.00 1500.00',\n",
              " '‘SUBTOTAL 2590.00',\n",
              " 'DISCOUNT 50.00',\n",
              " '‘SUBTOTAL LESS DISCOUNT 2540.00',\n",
              " 'Tank you for your business!',\n",
              " 'TAXRATE 12.00%',\n",
              " 'TOTAL TAX 304.80',\n",
              " 'Balance Due $2,844.80',\n",
              " 'Terms & Instructions',\n",
              " 'Please pay within 20 days by PayPal (bob@stanfordplumbingcom)',\n",
              " 'Installed products have S year warranty.']"
            ]
          },
          "metadata": {
            "tags": []
          },
          "execution_count": 13
        }
      ]
    },
    {
      "cell_type": "code",
      "metadata": {
        "id": "_YfJQnC4w4SR",
        "colab_type": "code",
        "colab": {}
      },
      "source": [
        "import re"
      ],
      "execution_count": 14,
      "outputs": []
    },
    {
      "cell_type": "code",
      "metadata": {
        "id": "Wpojn4Ttw6VB",
        "colab_type": "code",
        "colab": {}
      },
      "source": [
        "amt_re = re.compile(r'\\.\\d\\d$')"
      ],
      "execution_count": 15,
      "outputs": []
    },
    {
      "cell_type": "code",
      "metadata": {
        "id": "nzRjvjuLw7l9",
        "colab_type": "code",
        "colab": {}
      },
      "source": [
        "subt = 0\n",
        "\n",
        "for line in lines:\n",
        "    if 'SUBTOTAL' in line:\n",
        "        break\n",
        "    if amt_re.search(line):\n",
        "        subt += float(line.split()[-1].replace(',', '').replace('$', ''))"
      ],
      "execution_count": 16,
      "outputs": []
    },
    {
      "cell_type": "code",
      "metadata": {
        "id": "4hwnVVzGw8sW",
        "colab_type": "code",
        "colab": {
          "base_uri": "https://localhost:8080/",
          "height": 34
        },
        "outputId": "02e5b319-c5ed-4f7b-c591-037f04bac1b7"
      },
      "source": [
        "subt"
      ],
      "execution_count": 17,
      "outputs": [
        {
          "output_type": "execute_result",
          "data": {
            "text/plain": [
              "2090.0"
            ]
          },
          "metadata": {
            "tags": []
          },
          "execution_count": 17
        }
      ]
    },
    {
      "cell_type": "code",
      "metadata": {
        "id": "EY_xbkWqw98t",
        "colab_type": "code",
        "colab": {
          "base_uri": "https://localhost:8080/",
          "height": 457
        },
        "outputId": "08e14a63-70d8-4c96-9a35-1c6ac79048bd"
      },
      "source": [
        "lines"
      ],
      "execution_count": 18,
      "outputs": [
        {
          "output_type": "execute_result",
          "data": {
            "text/plain": [
              "['Stanford Plumbing & Heating INVOICE',\n",
              " '123 Madison drive, Seattle, WA, 7829Q',\n",
              " 'plumbingstanford.com',\n",
              " '990-120-4560',\n",
              " 'BILL TO Invoice No: winvo2081',\n",
              " 'Allen Smith Invoice Date: nae',\n",
              " '87Private st, Seattle, WA ‘Due Date: 12/01/18',\n",
              " 'allen@gmailcom',\n",
              " '990-302-1898',\n",
              " 'DESCRIPTION QTYHR UNITPRICE TOTAL',\n",
              " 'Installed new kitchen sink(hours) 150.00',\n",
              " 'Toto sink 1 $00.00 $00.00',\n",
              " 'Worcester greenstar magnetic system filter 1 190.00 190.00',\n",
              " 'Nest smart thermostat 1 250.00 250.00',\n",
              " 'Worcester Greenstar 301 1 1500.00 1500.00',\n",
              " '‘SUBTOTAL 2590.00',\n",
              " 'DISCOUNT 50.00',\n",
              " '‘SUBTOTAL LESS DISCOUNT 2540.00',\n",
              " 'Tank you for your business!',\n",
              " 'TAXRATE 12.00%',\n",
              " 'TOTAL TAX 304.80',\n",
              " 'Balance Due $2,844.80',\n",
              " 'Terms & Instructions',\n",
              " 'Please pay within 20 days by PayPal (bob@stanfordplumbingcom)',\n",
              " 'Installed products have S year warranty.']"
            ]
          },
          "metadata": {
            "tags": []
          },
          "execution_count": 18
        }
      ]
    },
    {
      "cell_type": "code",
      "metadata": {
        "id": "uqMtcjEuw_UX",
        "colab_type": "code",
        "colab": {}
      },
      "source": [
        ""
      ],
      "execution_count": null,
      "outputs": []
    }
  ]
}